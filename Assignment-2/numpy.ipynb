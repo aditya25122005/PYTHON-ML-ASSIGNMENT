{
 "cells": [
  {
   "cell_type": "code",
   "execution_count": 3,
   "id": "84d84af9",
   "metadata": {},
   "outputs": [
    {
     "data": {
      "text/plain": [
       "array([ 1,  2,  3,  4,  5,  6,  7,  8,  9, 10])"
      ]
     },
     "execution_count": 3,
     "metadata": {},
     "output_type": "execute_result"
    }
   ],
   "source": [
    "import numpy as np\n",
    "arr=np.arange(1,11)\n",
    "arr"
   ]
  },
  {
   "cell_type": "code",
   "execution_count": 6,
   "id": "f21a186a",
   "metadata": {},
   "outputs": [
    {
     "name": "stdout",
     "output_type": "stream",
     "text": [
      "[[1 2 3]\n",
      " [4 5 6]\n",
      " [7 8 9]]\n"
     ]
    }
   ],
   "source": [
    "arr2=np.arange(1,10).reshape(3,3)\n",
    "print(arr2)\n"
   ]
  },
  {
   "cell_type": "code",
   "execution_count": 7,
   "id": "e59a41ff",
   "metadata": {},
   "outputs": [
    {
     "data": {
      "text/plain": [
       "array([[[0.448329  , 0.2982069 , 0.29921625, 0.61439629, 0.29377823],\n",
       "        [0.05591017, 0.55672738, 0.16735721, 0.54183228, 0.96096978],\n",
       "        [0.26173787, 0.55120618, 0.118061  , 0.58226651, 0.5526186 ],\n",
       "        [0.49634691, 0.06416011, 0.66252765, 0.65053449, 0.24789085],\n",
       "        [0.80848427, 0.30953715, 0.18561838, 0.98097763, 0.01027056]],\n",
       "\n",
       "       [[0.69335274, 0.77543039, 0.4934401 , 0.56009811, 0.09541102],\n",
       "        [0.82610955, 0.06443654, 0.67755364, 0.71681911, 0.93931405],\n",
       "        [0.17509718, 0.85839387, 0.77200038, 0.50981595, 0.2921119 ],\n",
       "        [0.25760386, 0.3722172 , 0.59025957, 0.81687928, 0.14392357],\n",
       "        [0.4317836 , 0.63811885, 0.88331929, 0.47781989, 0.19172878]],\n",
       "\n",
       "       [[0.7397569 , 0.24399834, 0.12796679, 0.53530236, 0.0963096 ],\n",
       "        [0.40505453, 0.67567498, 0.22322568, 0.35263545, 0.67714479],\n",
       "        [0.01621307, 0.02399916, 0.69690247, 0.74260083, 0.4044493 ],\n",
       "        [0.92010663, 0.90814593, 0.83765785, 0.90698569, 0.31016925],\n",
       "        [0.54484822, 0.40044212, 0.97652443, 0.81130978, 0.83430793]]])"
      ]
     },
     "execution_count": 7,
     "metadata": {},
     "output_type": "execute_result"
    }
   ],
   "source": [
    "arr3=np.random.rand(3,5,5)\n",
    "arr3"
   ]
  },
  {
   "cell_type": "code",
   "execution_count": 17,
   "id": "f3293459",
   "metadata": {},
   "outputs": [
    {
     "name": "stdout",
     "output_type": "stream",
     "text": [
      "(10,)\n",
      "10\n",
      "int64\n",
      "(3, 3)\n",
      "9\n",
      "int64\n",
      "(3, 5, 5)\n",
      "75\n",
      "float64\n"
     ]
    }
   ],
   "source": [
    "print(arr.shape)\n",
    "print(arr.size)\n",
    "print(arr.dtype)\n",
    "\n",
    "print(arr2.shape)\n",
    "print(arr2.size)\n",
    "print(arr2.dtype)\n",
    "\n",
    "print(arr3.shape)\n",
    "print(arr3.size)\n",
    "print(arr3.dtype)"
   ]
  },
  {
   "cell_type": "code",
   "execution_count": 19,
   "id": "c1bbe356",
   "metadata": {},
   "outputs": [
    {
     "data": {
      "text/plain": [
       "array([10, 20, 30, 40, 50, 60, 70, 80, 90])"
      ]
     },
     "execution_count": 19,
     "metadata": {},
     "output_type": "execute_result"
    }
   ],
   "source": [
    "#Task 2\n",
    " \n",
    "data = [10, 20, 30, 40, 50, 60, 70, 80, 90]\n",
    "arr=np.array(data)\n",
    "arr"
   ]
  },
  {
   "cell_type": "code",
   "execution_count": null,
   "id": "7e86d174",
   "metadata": {},
   "outputs": [
    {
     "name": "stdout",
     "output_type": "stream",
     "text": [
      "[10 20 30]\n",
      "[10 30 50 70 90]\n",
      "[90 80 70 60 50 40 30 20 10]\n"
     ]
    }
   ],
   "source": [
    "print(arr[0:3])\n",
    "print(arr[0:9:2])\n",
    "print(arr[::-1])\n"
   ]
  },
  {
   "cell_type": "code",
   "execution_count": 41,
   "id": "513ea5ce",
   "metadata": {},
   "outputs": [
    {
     "name": "stdout",
     "output_type": "stream",
     "text": [
      "[2 1 9 3 7]\n",
      "[ 1  5 19  7 11]\n",
      "[ 3  6 28 10 18]\n",
      "[  1  -4 -10  -4  -4]\n",
      "[  2   5 171  21  77]\n",
      "[2.         0.2        0.47368421 0.42857143 0.63636364]\n",
      "276\n"
     ]
    }
   ],
   "source": [
    "#Task 3\n",
    "A=np.random.randint(1,20,5)\n",
    "B=np.random.randint(1,20,5)\n",
    "print(A)\n",
    "print(B)\n",
    "add=A+B\n",
    "sub=A-B\n",
    "mul=A*B\n",
    "div=A/B\n",
    "print(add)\n",
    "print(sub)\n",
    "print(mul)\n",
    "print(div)\n",
    "\n",
    "dot=np.dot(A,B)\n",
    "print(dot)"
   ]
  },
  {
   "cell_type": "code",
   "execution_count": 35,
   "id": "4b6ebd51",
   "metadata": {},
   "outputs": [
    {
     "name": "stdout",
     "output_type": "stream",
     "text": [
      "9.0\n",
      "8.0\n",
      "4.69041575982343\n",
      "22.0\n"
     ]
    }
   ],
   "source": [
    "print(np.mean(A))\n",
    "print(np.median(A))\n",
    "print(np.std(A))\n",
    "print(np.var(A))"
   ]
  },
  {
   "cell_type": "code",
   "execution_count": null,
   "id": "70631d0e",
   "metadata": {},
   "outputs": [
    {
     "name": "stdout",
     "output_type": "stream",
     "text": [
      "9 Index-> 2\n",
      "19 Index-> 2\n"
     ]
    }
   ],
   "source": [
    "\n",
    "print(np.max(B),\"Index->\",np.argmax(B))"
   ]
  },
  {
   "cell_type": "code",
   "execution_count": 43,
   "id": "cdd1f108",
   "metadata": {},
   "outputs": [
    {
     "data": {
      "text/plain": [
       "array([ 1,  2,  3,  4,  5,  6,  7,  8,  9, 10, 11, 12])"
      ]
     },
     "execution_count": 43,
     "metadata": {},
     "output_type": "execute_result"
    }
   ],
   "source": [
    "#Task 4\n",
    "arr=np.arange(1,13)\n",
    "arr"
   ]
  },
  {
   "cell_type": "code",
   "execution_count": 48,
   "id": "cfc8ec4e",
   "metadata": {},
   "outputs": [
    {
     "data": {
      "text/plain": [
       "array([[ 1,  2,  3],\n",
       "       [ 4,  5,  6],\n",
       "       [ 7,  8,  9],\n",
       "       [10, 11, 12]])"
      ]
     },
     "execution_count": 48,
     "metadata": {},
     "output_type": "execute_result"
    }
   ],
   "source": [
    "a1=arr.reshape(4,3)\n",
    "a1"
   ]
  },
  {
   "cell_type": "code",
   "execution_count": 45,
   "id": "5011062c",
   "metadata": {},
   "outputs": [
    {
     "data": {
      "text/plain": [
       "array([[[ 1,  2,  3],\n",
       "        [ 4,  5,  6]],\n",
       "\n",
       "       [[ 7,  8,  9],\n",
       "        [10, 11, 12]]])"
      ]
     },
     "execution_count": 45,
     "metadata": {},
     "output_type": "execute_result"
    }
   ],
   "source": [
    "arr.reshape(2,2,3)"
   ]
  },
  {
   "cell_type": "code",
   "execution_count": 56,
   "id": "cc08e6a6",
   "metadata": {},
   "outputs": [
    {
     "data": {
      "text/plain": [
       "(3, 4)"
      ]
     },
     "execution_count": 56,
     "metadata": {},
     "output_type": "execute_result"
    }
   ],
   "source": [
    "a1.transpose().shape\n",
    "\n"
   ]
  },
  {
   "cell_type": "code",
   "execution_count": 58,
   "id": "5ad3d19d",
   "metadata": {},
   "outputs": [
    {
     "data": {
      "text/plain": [
       "array([21, 44, 31, 16, 39, 15, 16, 14, 41, 42, 33, 44, 36, 38, 21],\n",
       "      dtype=int32)"
      ]
     },
     "execution_count": 58,
     "metadata": {},
     "output_type": "execute_result"
    }
   ],
   "source": [
    "#Task 5\n",
    "a=np.random.randint(10,50,15)\n",
    "a"
   ]
  },
  {
   "cell_type": "code",
   "execution_count": 59,
   "id": "e7b17827",
   "metadata": {},
   "outputs": [
    {
     "name": "stdout",
     "output_type": "stream",
     "text": [
      "[44 31 39 41 42 33 44 36 38]\n"
     ]
    }
   ],
   "source": [
    "print(a[a>25])"
   ]
  },
  {
   "cell_type": "code",
   "execution_count": 60,
   "id": "d1f1a834",
   "metadata": {},
   "outputs": [
    {
     "data": {
      "text/plain": [
       "array([ 0, 44, 31,  0, 39,  0,  0,  0, 41, 42, 33, 44, 36, 38,  0],\n",
       "      dtype=int32)"
      ]
     },
     "execution_count": 60,
     "metadata": {},
     "output_type": "execute_result"
    }
   ],
   "source": [
    "a[a<30]=0\n",
    "a"
   ]
  },
  {
   "cell_type": "code",
   "execution_count": 64,
   "id": "cd455b4e",
   "metadata": {},
   "outputs": [
    {
     "name": "stdout",
     "output_type": "stream",
     "text": [
      "6\n"
     ]
    }
   ],
   "source": [
    "print(np.count_nonzero(a%5==0))"
   ]
  },
  {
   "cell_type": "code",
   "execution_count": 66,
   "id": "31bd826f",
   "metadata": {},
   "outputs": [
    {
     "data": {
      "text/plain": [
       "array([0.        , 0.11111111, 0.22222222, 0.33333333, 0.44444444,\n",
       "       0.55555556, 0.66666667, 0.77777778, 0.88888889, 1.        ])"
      ]
     },
     "execution_count": 66,
     "metadata": {},
     "output_type": "execute_result"
    }
   ],
   "source": [
    "#Task 6\n",
    "arr=np.linspace(0,1,10)\n",
    "arr"
   ]
  },
  {
   "cell_type": "code",
   "execution_count": 69,
   "id": "550ebe8f",
   "metadata": {},
   "outputs": [
    {
     "data": {
      "text/plain": [
       "array([[1, 0, 0, 0],\n",
       "       [0, 1, 0, 0],\n",
       "       [0, 0, 1, 0],\n",
       "       [0, 0, 0, 1]])"
      ]
     },
     "execution_count": 69,
     "metadata": {},
     "output_type": "execute_result"
    }
   ],
   "source": [
    "arr=np.eye(4,dtype=\"int\")\n",
    "arr"
   ]
  },
  {
   "cell_type": "code",
   "execution_count": 71,
   "id": "54b7d57d",
   "metadata": {},
   "outputs": [
    {
     "data": {
      "text/plain": [
       "array([53, 87, 90, 24, 73, 15, 23,  7, 82, 68, 67, 42, 26, 62, 56, 48, 77,\n",
       "       69, 41, 46], dtype=int32)"
      ]
     },
     "execution_count": 71,
     "metadata": {},
     "output_type": "execute_result"
    }
   ],
   "source": [
    "arr=np.random.randint(1,100,20)\n",
    "arr"
   ]
  },
  {
   "cell_type": "code",
   "execution_count": 72,
   "id": "00633d38",
   "metadata": {},
   "outputs": [
    {
     "data": {
      "text/plain": [
       "array([ 7, 15, 23, 24, 26, 41, 42, 46, 48, 53, 56, 62, 67, 68, 69, 73, 77,\n",
       "       82, 87, 90], dtype=int32)"
      ]
     },
     "execution_count": 72,
     "metadata": {},
     "output_type": "execute_result"
    }
   ],
   "source": [
    "sorted=np.sort(arr)\n",
    "sorted"
   ]
  },
  {
   "cell_type": "code",
   "execution_count": 74,
   "id": "84fa7ca7",
   "metadata": {},
   "outputs": [
    {
     "name": "stdout",
     "output_type": "stream",
     "text": [
      "[90 87 82 77 73]\n"
     ]
    }
   ],
   "source": [
    "print(sorted[-5::][::-1])"
   ]
  },
  {
   "cell_type": "code",
   "execution_count": 81,
   "id": "7c7fce34",
   "metadata": {},
   "outputs": [
    {
     "name": "stdout",
     "output_type": "stream",
     "text": [
      "[[26.62089123 23.32498624 24.85731893 ... 25.04194201 25.17705585\n",
      "  28.51473346]\n",
      " [24.64059285 23.39462846 22.28668752 ... 26.19782345 24.19123056\n",
      "  25.45014088]\n",
      " [20.32143906 20.07262198 19.12414261 ... 20.55946766 20.89616908\n",
      "  23.63907873]\n",
      " ...\n",
      " [24.79143851 23.65543955 22.93779467 ... 24.03074389 24.92707844\n",
      "  26.77001675]\n",
      " [25.91405125 25.02938548 24.88974065 ... 25.82656489 25.86086755\n",
      "  28.25997234]\n",
      " [26.66680278 23.6738779  23.99147813 ... 25.50164029 25.08054253\n",
      "  27.2930874 ]] /n\n",
      "Determinant of the result: 2.436872482617207e+51 \n",
      "\n",
      "Operation end time :1751727507.332811 \n",
      "\n",
      "Matrix is invertible.\n",
      "Inverse matrix calculated successfully.\n",
      "[[ 0.53736683 -0.36958558 -1.48394006 ...  0.62190446  0.81925457\n",
      "   1.03017765]\n",
      " [ 0.68011848  0.44595717 -0.02494913 ...  0.52092297  0.14039641\n",
      "  -1.13542106]\n",
      " [-0.55402663  0.42587805  1.286737   ... -0.86431826 -1.64429557\n",
      "  -0.89176825]\n",
      " ...\n",
      " [-0.65950379 -0.96853242  1.92650383 ... -2.20980615 -1.68882557\n",
      "   1.51789003]\n",
      " [ 0.08633373 -0.03591468 -0.89092571 ...  0.45171248  0.52734394\n",
      "   0.51750907]\n",
      " [-0.26517255 -0.68264282 -1.20917035 ...  0.20157777  0.37669688\n",
      "   1.59870435]] \n",
      "\n",
      "Time taken: 0.4211 seconds\n"
     ]
    }
   ],
   "source": [
    "#Task 7\n",
    "import time\n",
    "A = np.random.rand(100, 100)\n",
    "B = np.random.rand(100, 100)\n",
    "\n",
    "start_time = time.time()\n",
    "\n",
    "C = np.dot(A, B)\n",
    "print(C,\"/n\")\n",
    "\n",
    "det_C = np.linalg.det(C)\n",
    "print(f\"Determinant of the result: {det_C} \\n\")\n",
    "\n",
    "if np.isclose(det_C, 0):\n",
    "    inverse_C = None\n",
    "    invertible = False\n",
    "else:\n",
    "    inverse_C = np.linalg.inv(C)\n",
    "    invertible = True\n",
    "\n",
    "end_time = time.time()\n",
    "\n",
    "print(f\"Operation end time :{end_time} \\n\")\n",
    "\n",
    "elapsed_time = end_time - start_time\n",
    "\n",
    "print(\"Matrix is invertible.\" if invertible else \"Matrix is not invertible.\")\n",
    "if invertible:\n",
    "    print(\"Inverse matrix calculated successfully.\")\n",
    "    print(inverse_C,\"\\n\")\n",
    "print(f\"Time taken: {elapsed_time:.4f} seconds\")"
   ]
  },
  {
   "cell_type": "code",
   "execution_count": null,
   "id": "6d1ff1ce",
   "metadata": {},
   "outputs": [],
   "source": []
  },
  {
   "cell_type": "code",
   "execution_count": null,
   "id": "d55b0e4d",
   "metadata": {},
   "outputs": [],
   "source": [
    "\n"
   ]
  }
 ],
 "metadata": {
  "kernelspec": {
   "display_name": "Python 3",
   "language": "python",
   "name": "python3"
  },
  "language_info": {
   "codemirror_mode": {
    "name": "ipython",
    "version": 3
   },
   "file_extension": ".py",
   "mimetype": "text/x-python",
   "name": "python",
   "nbconvert_exporter": "python",
   "pygments_lexer": "ipython3",
   "version": "3.13.1"
  }
 },
 "nbformat": 4,
 "nbformat_minor": 5
}
